{
 "cells": [
  {
   "cell_type": "code",
   "execution_count": 1,
   "id": "11e44bcc-9bdd-4b84-b827-2a7224d12932",
   "metadata": {},
   "outputs": [
    {
     "name": "stdout",
     "output_type": "stream",
     "text": [
      "python: can't open file 'vis_label.py': [Errno 2] No such file or directory\n"
     ]
    }
   ],
   "source": [
    "!python vis_label.py"
   ]
  },
  {
   "cell_type": "code",
   "execution_count": null,
   "id": "222eadbf-4cba-4d5a-9320-246d3aada9d6",
   "metadata": {},
   "outputs": [],
   "source": []
  }
 ],
 "metadata": {
  "kernelspec": {
   "display_name": "mycondapy38",
   "language": "python",
   "name": "mycondapy38"
  },
  "language_info": {
   "codemirror_mode": {
    "name": "ipython",
    "version": 3
   },
   "file_extension": ".py",
   "mimetype": "text/x-python",
   "name": "python",
   "nbconvert_exporter": "python",
   "pygments_lexer": "ipython3",
   "version": "3.8.20"
  }
 },
 "nbformat": 4,
 "nbformat_minor": 5
}
